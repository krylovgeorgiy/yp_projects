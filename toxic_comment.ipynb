{
 "cells": [
  {
   "attachments": {},
   "cell_type": "markdown",
   "metadata": {},
   "source": [
    "# Проект для «Викишоп»"
   ]
  },
  {
   "attachments": {},
   "cell_type": "markdown",
   "metadata": {},
   "source": [
    "Интернет-магазин «Викишоп» запускает новый сервис. Теперь пользователи могут редактировать и дополнять описания товаров, как в вики-сообществах. То есть клиенты предлагают свои правки и комментируют изменения других. Магазину нужен инструмент, который будет искать токсичные комментарии и отправлять их на модерацию. \n",
    "\n",
    "Обучите модель классифицировать комментарии на позитивные и негативные. В вашем распоряжении набор данных с разметкой о токсичности правок.\n",
    "\n",
    "Постройте модель со значением метрики качества *F1* не меньше 0.75. \n",
    "\n",
    "**Инструкция по выполнению проекта**\n",
    "\n",
    "1. Загрузите и подготовьте данные.\n",
    "2. Обучите разные модели. \n",
    "3. Сделайте выводы.\n",
    "\n",
    "Для выполнения проекта применять *BERT* необязательно, но вы можете попробовать.\n",
    "\n",
    "**Описание данных**\n",
    "\n",
    "Данные находятся в файле `toxic_comments.csv`. Столбец *text* в нём содержит текст комментария, а *toxic* — целевой признак."
   ]
  },
  {
   "attachments": {},
   "cell_type": "markdown",
   "metadata": {},
   "source": [
    "## 1 Подготовка"
   ]
  },
  {
   "cell_type": "code",
   "execution_count": 15,
   "metadata": {},
   "outputs": [
    {
     "name": "stderr",
     "output_type": "stream",
     "text": [
      "[nltk_data] Downloading package wordnet to /home/jovyan/nltk_data...\n",
      "[nltk_data]   Package wordnet is already up-to-date!\n",
      "[nltk_data] Downloading package averaged_perceptron_tagger to\n",
      "[nltk_data]     /home/jovyan/nltk_data...\n",
      "[nltk_data]   Unzipping taggers/averaged_perceptron_tagger.zip.\n"
     ]
    }
   ],
   "source": [
    "import numpy as np\n",
    "import pandas as pd\n",
    "import os\n",
    "\n",
    "import re\n",
    "\n",
    "import nltk\n",
    "nltk.download('wordnet')\n",
    "nltk.download('averaged_perceptron_tagger')\n",
    "\n",
    "from nltk.corpus import stopwords as nltk_stopwords\n",
    "from nltk.corpus import wordnet\n",
    "from nltk.stem import WordNetLemmatizer\n",
    "\n",
    "from sklearn.utils import resample\n",
    "from sklearn.feature_extraction.text import TfidfVectorizer\n",
    "from sklearn.model_selection import train_test_split, cross_val_score, GridSearchCV\n",
    "from sklearn.neighbors import KNeighborsClassifier\n",
    "\n",
    "from sklearn.linear_model import LogisticRegression, SGDClassifier\n",
    "from sklearn.tree import DecisionTreeClassifier\n",
    "from sklearn.ensemble import RandomForestClassifier\n",
    "\n",
    "from sklearn.metrics import f1_score, precision_score, recall_score, accuracy_score, roc_auc_score, roc_curve\n",
    "\n",
    "from sklearn.utils import shuffle\n",
    "\n",
    "from catboost import CatBoostClassifier\n",
    "\n",
    "import matplotlib.pyplot as plt\n",
    "\n",
    "import warnings\n",
    "warnings.filterwarnings('ignore')"
   ]
  },
  {
   "attachments": {},
   "cell_type": "markdown",
   "metadata": {},
   "source": [
    "Загрузим датасет:"
   ]
  },
  {
   "cell_type": "code",
   "execution_count": 2,
   "metadata": {},
   "outputs": [],
   "source": [
    "pth1 = \"D:/YP/ML/comments/toxic_comments.csv\"\n",
    "pth2 = \"/datasets/toxic_comments.csv\"\n",
    "\n",
    "if os.path.exists(pth1):\n",
    "    df_comments = pd.read_csv(pth1)\n",
    "elif os.path.exists(pth2):\n",
    "    df_comments = pd.read_csv(pth2)\n",
    "else:\n",
    "    print('Something is wrong')"
   ]
  },
  {
   "attachments": {},
   "cell_type": "markdown",
   "metadata": {},
   "source": [
    "Посмотрим первые строки:"
   ]
  },
  {
   "cell_type": "code",
   "execution_count": 3,
   "metadata": {},
   "outputs": [
    {
     "data": {
      "text/html": [
       "<div>\n",
       "<style scoped>\n",
       "    .dataframe tbody tr th:only-of-type {\n",
       "        vertical-align: middle;\n",
       "    }\n",
       "\n",
       "    .dataframe tbody tr th {\n",
       "        vertical-align: top;\n",
       "    }\n",
       "\n",
       "    .dataframe thead th {\n",
       "        text-align: right;\n",
       "    }\n",
       "</style>\n",
       "<table border=\"1\" class=\"dataframe\">\n",
       "  <thead>\n",
       "    <tr style=\"text-align: right;\">\n",
       "      <th></th>\n",
       "      <th>Unnamed: 0</th>\n",
       "      <th>text</th>\n",
       "      <th>toxic</th>\n",
       "    </tr>\n",
       "  </thead>\n",
       "  <tbody>\n",
       "    <tr>\n",
       "      <th>0</th>\n",
       "      <td>0</td>\n",
       "      <td>Explanation\\nWhy the edits made under my usern...</td>\n",
       "      <td>0</td>\n",
       "    </tr>\n",
       "    <tr>\n",
       "      <th>1</th>\n",
       "      <td>1</td>\n",
       "      <td>D'aww! He matches this background colour I'm s...</td>\n",
       "      <td>0</td>\n",
       "    </tr>\n",
       "    <tr>\n",
       "      <th>2</th>\n",
       "      <td>2</td>\n",
       "      <td>Hey man, I'm really not trying to edit war. It...</td>\n",
       "      <td>0</td>\n",
       "    </tr>\n",
       "    <tr>\n",
       "      <th>3</th>\n",
       "      <td>3</td>\n",
       "      <td>\"\\nMore\\nI can't make any real suggestions on ...</td>\n",
       "      <td>0</td>\n",
       "    </tr>\n",
       "    <tr>\n",
       "      <th>4</th>\n",
       "      <td>4</td>\n",
       "      <td>You, sir, are my hero. Any chance you remember...</td>\n",
       "      <td>0</td>\n",
       "    </tr>\n",
       "  </tbody>\n",
       "</table>\n",
       "</div>"
      ],
      "text/plain": [
       "   Unnamed: 0                                               text  toxic\n",
       "0           0  Explanation\\nWhy the edits made under my usern...      0\n",
       "1           1  D'aww! He matches this background colour I'm s...      0\n",
       "2           2  Hey man, I'm really not trying to edit war. It...      0\n",
       "3           3  \"\\nMore\\nI can't make any real suggestions on ...      0\n",
       "4           4  You, sir, are my hero. Any chance you remember...      0"
      ]
     },
     "metadata": {},
     "output_type": "display_data"
    }
   ],
   "source": [
    "display(df_comments.head())"
   ]
  },
  {
   "attachments": {},
   "cell_type": "markdown",
   "metadata": {},
   "source": [
    "Посмотрим информацию о фрейме:"
   ]
  },
  {
   "cell_type": "code",
   "execution_count": 4,
   "metadata": {},
   "outputs": [
    {
     "name": "stdout",
     "output_type": "stream",
     "text": [
      "<class 'pandas.core.frame.DataFrame'>\n",
      "RangeIndex: 159292 entries, 0 to 159291\n",
      "Data columns (total 3 columns):\n",
      " #   Column      Non-Null Count   Dtype \n",
      "---  ------      --------------   ----- \n",
      " 0   Unnamed: 0  159292 non-null  int64 \n",
      " 1   text        159292 non-null  object\n",
      " 2   toxic       159292 non-null  int64 \n",
      "dtypes: int64(2), object(1)\n",
      "memory usage: 3.6+ MB\n"
     ]
    },
    {
     "data": {
      "text/plain": [
       "None"
      ]
     },
     "metadata": {},
     "output_type": "display_data"
    }
   ],
   "source": [
    "display(df_comments.info())"
   ]
  },
  {
   "cell_type": "code",
   "execution_count": 5,
   "metadata": {},
   "outputs": [
    {
     "name": "stdout",
     "output_type": "stream",
     "text": [
      "Дубликатов в датасете: 0\n"
     ]
    }
   ],
   "source": [
    "print('Дубликатов в датасете:', df_comments.duplicated().sum())"
   ]
  },
  {
   "cell_type": "code",
   "execution_count": 6,
   "metadata": {},
   "outputs": [
    {
     "name": "stdout",
     "output_type": "stream",
     "text": [
      "Пропусков: \n",
      " Unnamed: 0    0\n",
      "text          0\n",
      "toxic         0\n",
      "dtype: int64\n"
     ]
    }
   ],
   "source": [
    "print('Пропусков: \\n', df_comments.isna().sum())"
   ]
  },
  {
   "attachments": {},
   "cell_type": "markdown",
   "metadata": {},
   "source": [
    "Посмотрим соотношение токсичных и нектоксичных комментариев:"
   ]
  },
  {
   "cell_type": "code",
   "execution_count": 7,
   "metadata": {},
   "outputs": [
    {
     "data": {
      "text/plain": [
       "0    143106\n",
       "1     16186\n",
       "Name: toxic, dtype: int64"
      ]
     },
     "metadata": {},
     "output_type": "display_data"
    },
    {
     "data": {
      "text/plain": [
       "0    0.898388\n",
       "1    0.101612\n",
       "Name: toxic, dtype: float64"
      ]
     },
     "metadata": {},
     "output_type": "display_data"
    }
   ],
   "source": [
    "display(df_comments['toxic'].value_counts(), df_comments.toxic.value_counts(normalize=True))"
   ]
  },
  {
   "cell_type": "code",
   "execution_count": 8,
   "metadata": {},
   "outputs": [
    {
     "data": {
      "text/plain": [
       "<AxesSubplot:ylabel='Type'>"
      ]
     },
     "execution_count": 8,
     "metadata": {},
     "output_type": "execute_result"
    },
    {
     "data": {
      "image/png": "[encoded data removed]",
      "text/plain": [
       "<Figure size 432x288 with 1 Axes>"
      ]
     },
     "metadata": {},
     "output_type": "display_data"
    }
   ],
   "source": [
    "df_comments.groupby('toxic').size().plot(kind='pie',\n",
    "                                       y = \"toxic\",\n",
    "                                       label = \"Type\",\n",
    "                                       autopct='%1.1f%%')"
   ]
  },
  {
   "attachments": {},
   "cell_type": "markdown",
   "metadata": {},
   "source": [
    "### Промежуточный вывод:"
   ]
  },
  {
   "attachments": {},
   "cell_type": "markdown",
   "metadata": {},
   "source": [
    "1. В таблице 159292 строк без пропусков и явных дубликатов.\n",
    "2. Классы несбалансированы, небходимо будет использовать методы балансировки.\n",
    "3. Столбец `Unnamed: 0` дублирует индексы, удалим его."
   ]
  },
  {
   "attachments": {},
   "cell_type": "markdown",
   "metadata": {},
   "source": [
    "### Подготовка данных:"
   ]
  },
  {
   "attachments": {},
   "cell_type": "markdown",
   "metadata": {},
   "source": [
    "Удалим столбец `Unnamed: 0`:"
   ]
  },
  {
   "cell_type": "code",
   "execution_count": 9,
   "metadata": {},
   "outputs": [],
   "source": [
    "df_comments = df_comments.drop(['Unnamed: 0'], axis=1)"
   ]
  },
  {
   "attachments": {},
   "cell_type": "markdown",
   "metadata": {},
   "source": [
    "Создадим функицю для очистки текстов комменитариев:"
   ]
  },
  {
   "cell_type": "code",
   "execution_count": 10,
   "metadata": {},
   "outputs": [],
   "source": [
    "def clear_text(text):\n",
    "    text = text.lower()\n",
    "    text = re.sub(r'[^a-zA-Z]', ' ', text)   \n",
    "    text = ' '.join(text.split())\n",
    "    return text"
   ]
  },
  {
   "cell_type": "code",
   "execution_count": 11,
   "metadata": {},
   "outputs": [
    {
     "name": "stdout",
     "output_type": "stream",
     "text": [
      "CPU times: user 5.13 s, sys: 36.8 ms, total: 5.17 s\n",
      "Wall time: 5.33 s\n"
     ]
    }
   ],
   "source": [
    "%%time\n",
    "\n",
    "df_comments['text'] = df_comments['text'].apply(clear_text) "
   ]
  },
  {
   "cell_type": "code",
   "execution_count": 12,
   "metadata": {},
   "outputs": [
    {
     "data": {
      "text/html": [
       "<div>\n",
       "<style scoped>\n",
       "    .dataframe tbody tr th:only-of-type {\n",
       "        vertical-align: middle;\n",
       "    }\n",
       "\n",
       "    .dataframe tbody tr th {\n",
       "        vertical-align: top;\n",
       "    }\n",
       "\n",
       "    .dataframe thead th {\n",
       "        text-align: right;\n",
       "    }\n",
       "</style>\n",
       "<table border=\"1\" class=\"dataframe\">\n",
       "  <thead>\n",
       "    <tr style=\"text-align: right;\">\n",
       "      <th></th>\n",
       "      <th>text</th>\n",
       "      <th>toxic</th>\n",
       "    </tr>\n",
       "  </thead>\n",
       "  <tbody>\n",
       "    <tr>\n",
       "      <th>0</th>\n",
       "      <td>explanation why the edits made under my userna...</td>\n",
       "      <td>0</td>\n",
       "    </tr>\n",
       "    <tr>\n",
       "      <th>1</th>\n",
       "      <td>d aww he matches this background colour i m se...</td>\n",
       "      <td>0</td>\n",
       "    </tr>\n",
       "    <tr>\n",
       "      <th>2</th>\n",
       "      <td>hey man i m really not trying to edit war it s...</td>\n",
       "      <td>0</td>\n",
       "    </tr>\n",
       "    <tr>\n",
       "      <th>3</th>\n",
       "      <td>more i can t make any real suggestions on impr...</td>\n",
       "      <td>0</td>\n",
       "    </tr>\n",
       "    <tr>\n",
       "      <th>4</th>\n",
       "      <td>you sir are my hero any chance you remember wh...</td>\n",
       "      <td>0</td>\n",
       "    </tr>\n",
       "  </tbody>\n",
       "</table>\n",
       "</div>"
      ],
      "text/plain": [
       "                                                text  toxic\n",
       "0  explanation why the edits made under my userna...      0\n",
       "1  d aww he matches this background colour i m se...      0\n",
       "2  hey man i m really not trying to edit war it s...      0\n",
       "3  more i can t make any real suggestions on impr...      0\n",
       "4  you sir are my hero any chance you remember wh...      0"
      ]
     },
     "execution_count": 12,
     "metadata": {},
     "output_type": "execute_result"
    }
   ],
   "source": [
    "df_comments.head()"
   ]
  },
  {
   "attachments": {},
   "cell_type": "markdown",
   "metadata": {},
   "source": [
    "Лемматизируем текст:"
   ]
  },
  {
   "cell_type": "code",
   "execution_count": 16,
   "metadata": {},
   "outputs": [],
   "source": [
    "def get_wordnet_pos(word):\n",
    "    tag = nltk.pos_tag([word])[0][1][0].upper()\n",
    "    tag_dict = {\"J\": wordnet.ADJ,               \n",
    "                \"N\": wordnet.NOUN,              \n",
    "                \"V\": wordnet.VERB,             \n",
    "                \"R\": wordnet.ADV                \n",
    "               }  \n",
    "    return tag_dict.get(tag, wordnet.NOUN)\n",
    "\n",
    "lemmatizer = WordNetLemmatizer()\n",
    "\n",
    "def lemmatize_text(text):\n",
    "    text = [lemmatizer.lemmatize(w, get_wordnet_pos(w)) for w in nltk.word_tokenize(text)]\n",
    "    return ' '.join(text)\n"
   ]
  },
  {
   "cell_type": "code",
   "execution_count": 18,
   "metadata": {},
   "outputs": [],
   "source": [
    "df_comments['text'] = df_comments['text'].apply(lemmatize_text)\n"
   ]
  },
  {
   "cell_type": "code",
   "execution_count": 19,
   "metadata": {},
   "outputs": [
    {
     "data": {
      "text/html": [
       "<div>\n",
       "<style scoped>\n",
       "    .dataframe tbody tr th:only-of-type {\n",
       "        vertical-align: middle;\n",
       "    }\n",
       "\n",
       "    .dataframe tbody tr th {\n",
       "        vertical-align: top;\n",
       "    }\n",
       "\n",
       "    .dataframe thead th {\n",
       "        text-align: right;\n",
       "    }\n",
       "</style>\n",
       "<table border=\"1\" class=\"dataframe\">\n",
       "  <thead>\n",
       "    <tr style=\"text-align: right;\">\n",
       "      <th></th>\n",
       "      <th>text</th>\n",
       "      <th>toxic</th>\n",
       "    </tr>\n",
       "  </thead>\n",
       "  <tbody>\n",
       "    <tr>\n",
       "      <th>0</th>\n",
       "      <td>explanation why the edits make under my userna...</td>\n",
       "      <td>0</td>\n",
       "    </tr>\n",
       "    <tr>\n",
       "      <th>1</th>\n",
       "      <td>d aww he match this background colour i m seem...</td>\n",
       "      <td>0</td>\n",
       "    </tr>\n",
       "    <tr>\n",
       "      <th>2</th>\n",
       "      <td>hey man i m really not try to edit war it s ju...</td>\n",
       "      <td>0</td>\n",
       "    </tr>\n",
       "    <tr>\n",
       "      <th>3</th>\n",
       "      <td>more i can t make any real suggestion on impro...</td>\n",
       "      <td>0</td>\n",
       "    </tr>\n",
       "    <tr>\n",
       "      <th>4</th>\n",
       "      <td>you sir be my hero any chance you remember wha...</td>\n",
       "      <td>0</td>\n",
       "    </tr>\n",
       "  </tbody>\n",
       "</table>\n",
       "</div>"
      ],
      "text/plain": [
       "                                                text  toxic\n",
       "0  explanation why the edits make under my userna...      0\n",
       "1  d aww he match this background colour i m seem...      0\n",
       "2  hey man i m really not try to edit war it s ju...      0\n",
       "3  more i can t make any real suggestion on impro...      0\n",
       "4  you sir be my hero any chance you remember wha...      0"
      ]
     },
     "execution_count": 19,
     "metadata": {},
     "output_type": "execute_result"
    }
   ],
   "source": [
    "df_comments.head()"
   ]
  },
  {
   "attachments": {},
   "cell_type": "markdown",
   "metadata": {},
   "source": [
    "Разделим выборки на 50/25/25:"
   ]
  },
  {
   "cell_type": "code",
   "execution_count": 20,
   "metadata": {},
   "outputs": [],
   "source": [
    "features = df_comments.drop(['toxic'], axis=1) \n",
    "target = df_comments['toxic']\n",
    "\n",
    "features_train, features_valid, target_train, target_valid = train_test_split(features, target, test_size=0.5, random_state=5678)\n",
    "features_valid, features_test, target_valid, target_test = train_test_split(features_valid, target_valid, test_size=0.5, random_state=5678)"
   ]
  },
  {
   "cell_type": "code",
   "execution_count": 21,
   "metadata": {},
   "outputs": [
    {
     "name": "stdout",
     "output_type": "stream",
     "text": [
      "(79646, 1)\n",
      "(39823, 1)\n",
      "(39823, 1)\n",
      "(79646,)\n",
      "(39823,)\n",
      "(39823,)\n"
     ]
    }
   ],
   "source": [
    "print(features_train.shape)\n",
    "print(features_valid.shape)\n",
    "print(features_test.shape)\n",
    "\n",
    "print(target_train.shape)\n",
    "print(target_valid.shape)\n",
    "print(target_test.shape)"
   ]
  },
  {
   "cell_type": "code",
   "execution_count": 22,
   "metadata": {},
   "outputs": [
    {
     "name": "stderr",
     "output_type": "stream",
     "text": [
      "[nltk_data] Downloading package stopwords to /home/jovyan/nltk_data...\n",
      "[nltk_data]   Package stopwords is already up-to-date!\n"
     ]
    }
   ],
   "source": [
    "nltk.download('stopwords')\n",
    "stopwords = set(nltk_stopwords.words('english'))\n",
    "\n",
    "count_tf_idf = TfidfVectorizer(stop_words=stopwords)"
   ]
  },
  {
   "cell_type": "code",
   "execution_count": 23,
   "metadata": {},
   "outputs": [
    {
     "name": "stdout",
     "output_type": "stream",
     "text": [
      "(79646, 99078)\n",
      "(39823, 99078)\n",
      "(39823, 99078)\n"
     ]
    }
   ],
   "source": [
    "features_train = count_tf_idf.fit_transform(features_train['text'].values)\n",
    "features_valid = count_tf_idf.transform(features_valid['text'].values)\n",
    "features_test = count_tf_idf.transform(features_test['text'].values)\n",
    "print(features_train.shape)\n",
    "print(features_valid.shape)\n",
    "print(features_test.shape)"
   ]
  },
  {
   "attachments": {},
   "cell_type": "markdown",
   "metadata": {},
   "source": [
    "### Балансировка классов:"
   ]
  },
  {
   "attachments": {},
   "cell_type": "markdown",
   "metadata": {},
   "source": [
    "Ресемплинг с уменшением класса 0:"
   ]
  },
  {
   "cell_type": "code",
   "execution_count": 24,
   "metadata": {},
   "outputs": [
    {
     "name": "stdout",
     "output_type": "stream",
     "text": [
      "(71586, 2)\n",
      "(8060, 2)\n"
     ]
    }
   ],
   "source": [
    "toxic_comments_train = df_comments.iloc[target_train.index]\n",
    "\n",
    "target_train_class_untoxic = toxic_comments_train[toxic_comments_train['toxic'] == 0]\n",
    "target_train_class_toxic = toxic_comments_train[toxic_comments_train['toxic'] == 1]\n",
    "print(target_train_class_untoxic.shape)\n",
    "print(target_train_class_toxic.shape)"
   ]
  },
  {
   "cell_type": "code",
   "execution_count": 25,
   "metadata": {},
   "outputs": [
    {
     "name": "stdout",
     "output_type": "stream",
     "text": [
      "(8060, 2)\n"
     ]
    }
   ],
   "source": [
    "target_train_class_untoxic_downsample = resample(target_train_class_untoxic, replace=True, n_samples=len(target_train_class_toxic), random_state=5678)\n",
    "print(target_train_class_untoxic_downsample.shape)"
   ]
  },
  {
   "cell_type": "code",
   "execution_count": 26,
   "metadata": {},
   "outputs": [],
   "source": [
    "target_train_downsample = pd.concat([target_train_class_untoxic_downsample, target_train_class_toxic])"
   ]
  },
  {
   "cell_type": "code",
   "execution_count": 27,
   "metadata": {},
   "outputs": [
    {
     "name": "stdout",
     "output_type": "stream",
     "text": [
      "0    8060\n",
      "1    8060\n",
      "Name: toxic, dtype: int64\n"
     ]
    },
    {
     "data": {
      "text/plain": [
       "<AxesSubplot:ylabel='Type'>"
      ]
     },
     "execution_count": 27,
     "metadata": {},
     "output_type": "execute_result"
    },
    {
     "data": {
      "image/png": "[encoded data removed]",
      "text/plain": [
       "<Figure size 432x288 with 1 Axes>"
      ]
     },
     "metadata": {},
     "output_type": "display_data"
    }
   ],
   "source": [
    "print(target_train_downsample[\"toxic\"].value_counts())\n",
    "\n",
    "target_train_downsample.groupby('toxic').size().plot(kind='pie',\n",
    "                                       y = \"toxic\",\n",
    "                                       label = \"Type\",\n",
    "                                       autopct='%1.1f%%')"
   ]
  },
  {
   "cell_type": "code",
   "execution_count": 28,
   "metadata": {},
   "outputs": [],
   "source": [
    "features_train_downsample = df_comments.iloc[target_train_downsample.index]\n",
    "\n",
    "features_train_resample, target_train_resample = shuffle(features_train_downsample, target_train_downsample, random_state=5678)\n",
    "\n",
    "features_train_downsample = count_tf_idf.transform(features_train_downsample['text'].values)"
   ]
  },
  {
   "attachments": {},
   "cell_type": "markdown",
   "metadata": {},
   "source": [
    "### Вывод:"
   ]
  },
  {
   "attachments": {},
   "cell_type": "markdown",
   "metadata": {},
   "source": [
    "1. В ходе подготовки данных мы получили признаки для обучения, получили обучающую, валидационную и тестовую выборку.\n",
    "\n",
    "2. Сбалансировали целевой признак, но в дальнейшем будем и балансировать по весам признаки в самих моделях обучения."
   ]
  },
  {
   "attachments": {},
   "cell_type": "markdown",
   "metadata": {},
   "source": [
    "## 2 Обучение"
   ]
  },
  {
   "attachments": {},
   "cell_type": "markdown",
   "metadata": {},
   "source": [
    "### Logistic Regression"
   ]
  },
  {
   "attachments": {},
   "cell_type": "markdown",
   "metadata": {},
   "source": [
    "Вначале займемся Логистической регрессией с downsapling-ом "
   ]
  },
  {
   "cell_type": "code",
   "execution_count": 29,
   "metadata": {},
   "outputs": [],
   "source": [
    "target_train_downsample = target_train_downsample['toxic']"
   ]
  },
  {
   "cell_type": "code",
   "execution_count": 30,
   "metadata": {},
   "outputs": [
    {
     "data": {
      "text/plain": [
       "LogisticRegression(random_state=5678)"
      ]
     },
     "execution_count": 30,
     "metadata": {},
     "output_type": "execute_result"
    }
   ],
   "source": [
    "LR = LogisticRegression(random_state=5678)\n",
    "LR.fit(features_train_downsample, target_train_downsample)"
   ]
  },
  {
   "cell_type": "code",
   "execution_count": 31,
   "metadata": {},
   "outputs": [
    {
     "name": "stdout",
     "output_type": "stream",
     "text": [
      "F1 на валидации: 0.6868962825641526\n"
     ]
    }
   ],
   "source": [
    "predicted_LR = LR.predict(features_valid)\n",
    "valid_f1_LR = f1_score(predicted_LR, target_valid)\n",
    "print('F1 на валидации:', valid_f1_LR)"
   ]
  },
  {
   "attachments": {},
   "cell_type": "markdown",
   "metadata": {},
   "source": [
    "А теперь Логистическая регрессия с GridSearchCV и балансом классов:"
   ]
  },
  {
   "cell_type": "code",
   "execution_count": 32,
   "metadata": {},
   "outputs": [
    {
     "name": "stdout",
     "output_type": "stream",
     "text": [
      "Лучшие гиперпараметры:\n",
      "{'C': 10, 'solver': 'lbfgs'}\n"
     ]
    }
   ],
   "source": [
    "LR_balanced = LogisticRegression(class_weight='balanced', random_state=5678)\n",
    "hyperparams = [{'solver':['newton-cg', 'lbfgs', 'liblinear'],\n",
    "                'C':[0.1, 1, 10] }]\n",
    "\n",
    "clf = GridSearchCV(LR_balanced, hyperparams, scoring='f1',cv=2)\n",
    "clf.fit(features_train, target_train)\n",
    "print(\"Лучшие гиперпараметры:\")\n",
    "LR_best_params = clf.best_params_\n",
    "print(LR_best_params)\n"
   ]
  },
  {
   "cell_type": "code",
   "execution_count": 33,
   "metadata": {},
   "outputs": [
    {
     "name": "stdout",
     "output_type": "stream",
     "text": [
      "F1 на валидации с балансированными весами: 0.7613334871380782\n"
     ]
    }
   ],
   "source": [
    "LR_balanced = LogisticRegression(class_weight='balanced', random_state=5678)\n",
    "LR_balanced.set_params(**LR_best_params)\n",
    "LR_balanced.fit(features_train, target_train)\n",
    "target_predict = LR_balanced.predict(features_valid)\n",
    "valid_f1_LR_1 = f1_score(target_valid, target_predict)\n",
    "print('F1 на валидации с балансированными весами:', valid_f1_LR_1)"
   ]
  },
  {
   "attachments": {},
   "cell_type": "markdown",
   "metadata": {},
   "source": [
    "### Классификатор DecisionTreeClassifier"
   ]
  },
  {
   "cell_type": "code",
   "execution_count": 34,
   "metadata": {},
   "outputs": [
    {
     "name": "stdout",
     "output_type": "stream",
     "text": [
      "Лучшие гиперпараметры:\n",
      "\n",
      "{'class_weight': 'balanced', 'max_depth': 88, 'random_state': 5678}\n",
      "CPU times: user 13min 8s, sys: 2.09 s, total: 13min 10s\n",
      "Wall time: 13min 12s\n"
     ]
    }
   ],
   "source": [
    "%%time\n",
    "DTC_balanced = DecisionTreeClassifier()\n",
    "hyperparams = [{'max_depth':[x for x in range(50,100,2)],\n",
    "                'random_state':[5678], 'class_weight':['balanced']\n",
    "                }]\n",
    "\n",
    "clf = GridSearchCV(DTC_balanced, hyperparams, scoring='f1',cv=2)\n",
    "clf.fit(features_train, target_train)\n",
    "print(\"Лучшие гиперпараметры:\")\n",
    "print()\n",
    "DTC_best_params = clf.best_params_\n",
    "print(DTC_best_params)\n"
   ]
  },
  {
   "cell_type": "code",
   "execution_count": 35,
   "metadata": {},
   "outputs": [
    {
     "name": "stdout",
     "output_type": "stream",
     "text": [
      "F1 на валидации 0.638785046728972\n"
     ]
    }
   ],
   "source": [
    "DTC_balanced = DecisionTreeClassifier(random_state=5678)\n",
    "DTC_balanced.set_params(**DTC_best_params)\n",
    "DTC_balanced.fit(features_train, target_train)\n",
    "target_predict = DTC_balanced.predict(features_valid)\n",
    "valid_f1_DTC = f1_score(target_valid, target_predict)\n",
    "print('F1 на валидации', valid_f1_DTC)"
   ]
  },
  {
   "cell_type": "code",
   "execution_count": 36,
   "metadata": {},
   "outputs": [
    {
     "name": "stdout",
     "output_type": "stream",
     "text": [
      "Лучшие гиперпараметры:\n",
      "\n",
      "{'class_weight': 'balanced', 'max_depth': 88, 'random_state': 5678}\n",
      "CPU times: user 2min, sys: 208 ms, total: 2min\n",
      "Wall time: 2min\n"
     ]
    }
   ],
   "source": [
    "%%time\n",
    "DTC = DecisionTreeClassifier()\n",
    "hyperparams = [{'max_depth':[x for x in range(50,100,2)],\n",
    "                'random_state':[5678]\n",
    "                     }]\n",
    "\n",
    "clf1 = GridSearchCV(DTC, hyperparams, scoring='f1',cv=2)\n",
    "clf1.fit(features_train_downsample, target_train_downsample)\n",
    "print(\"Лучшие гиперпараметры:\")\n",
    "print()\n",
    "DTC_best_params1 = clf1.best_params_\n",
    "print(DTC_best_params)"
   ]
  },
  {
   "cell_type": "code",
   "execution_count": 37,
   "metadata": {},
   "outputs": [
    {
     "name": "stdout",
     "output_type": "stream",
     "text": [
      "F1 на валидации 0.5254809314883564\n"
     ]
    }
   ],
   "source": [
    "DTC_balanced = DecisionTreeClassifier(random_state=5678)\n",
    "DTC_balanced.set_params(**DTC_best_params1)\n",
    "DTC_balanced.fit(features_train_downsample, target_train_downsample)\n",
    "target_predict = DTC_balanced.predict(features_valid)\n",
    "valid_f1_DTC_1 = f1_score(target_valid, target_predict)\n",
    "print('F1 на валидации', valid_f1_DTC_1)"
   ]
  },
  {
   "attachments": {},
   "cell_type": "markdown",
   "metadata": {},
   "source": [
    "### CatBoost"
   ]
  },
  {
   "cell_type": "code",
   "execution_count": 38,
   "metadata": {},
   "outputs": [
    {
     "name": "stdout",
     "output_type": "stream",
     "text": [
      "F1 на валидации 0.707197614991482\n",
      "CPU times: user 4min 3s, sys: 2.88 s, total: 4min 6s\n",
      "Wall time: 4min 10s\n"
     ]
    }
   ],
   "source": [
    "%%time\n",
    "cbc = CatBoostClassifier(verbose=False, iterations=100, random_state=5678)\n",
    "cbc.fit(features_train_downsample, target_train_downsample)\n",
    "target_predict = cbc.predict(features_valid)\n",
    "cv_f1_CBC = cross_val_score(cbc,         features_train, \n",
    "                                         target_train, \n",
    "                                         cv=2, \n",
    "                                         scoring='f1').mean()\n",
    "valid_f1_CBC = f1_score(target_valid, target_predict)\n",
    "print('F1 на валидации', valid_f1_CBC)"
   ]
  },
  {
   "cell_type": "code",
   "execution_count": 39,
   "metadata": {},
   "outputs": [
    {
     "name": "stdout",
     "output_type": "stream",
     "text": [
      "F1 на валидации 0.707197614991482\n"
     ]
    }
   ],
   "source": [
    "valid_f1_CBC = f1_score(target_valid, target_predict)\n",
    "print('F1 на валидации', valid_f1_CBC)"
   ]
  },
  {
   "attachments": {},
   "cell_type": "markdown",
   "metadata": {},
   "source": [
    "### kNN"
   ]
  },
  {
   "cell_type": "code",
   "execution_count": 42,
   "metadata": {},
   "outputs": [
    {
     "name": "stdout",
     "output_type": "stream",
     "text": [
      "CPU times: user 1min 44s, sys: 44.2 s, total: 2min 28s\n",
      "Wall time: 2min 28s\n"
     ]
    }
   ],
   "source": [
    "%%time\n",
    "knn = KNeighborsClassifier()\n",
    "\n",
    "k_range = list(range(1, 31))\n",
    "param_grid = dict(n_neighbors=k_range)\n",
    "  \n",
    "grid = GridSearchCV(knn, param_grid, cv=2, scoring='f1', return_train_score=False)\n",
    "gridsearch_knn=grid.fit(features_train_downsample, target_train_downsample)"
   ]
  },
  {
   "cell_type": "code",
   "execution_count": 43,
   "metadata": {},
   "outputs": [
    {
     "name": "stdout",
     "output_type": "stream",
     "text": [
      "{'n_neighbors': 30}\n"
     ]
    }
   ],
   "source": [
    "print(gridsearch_knn.best_params_)"
   ]
  },
  {
   "cell_type": "code",
   "execution_count": 45,
   "metadata": {},
   "outputs": [
    {
     "name": "stdout",
     "output_type": "stream",
     "text": [
      "F1 на валидации 0.707197614991482\n"
     ]
    }
   ],
   "source": [
    "knn = KNeighborsClassifier(n_neighbors=30)\n",
    "knn.fit(features_train_downsample, target_train_downsample)\n",
    "target_predicted_knn = knn.predict(features_valid)\n",
    "valid_f1_knn = f1_score(target_valid, target_predict)\n",
    "print('F1 на валидации', valid_f1_knn)"
   ]
  },
  {
   "attachments": {},
   "cell_type": "markdown",
   "metadata": {},
   "source": [
    "### Сводная таблица по показателям F1:"
   ]
  },
  {
   "cell_type": "code",
   "execution_count": 46,
   "metadata": {},
   "outputs": [
    {
     "data": {
      "text/html": [
       "<div>\n",
       "<style scoped>\n",
       "    .dataframe tbody tr th:only-of-type {\n",
       "        vertical-align: middle;\n",
       "    }\n",
       "\n",
       "    .dataframe tbody tr th {\n",
       "        vertical-align: top;\n",
       "    }\n",
       "\n",
       "    .dataframe thead th {\n",
       "        text-align: right;\n",
       "    }\n",
       "</style>\n",
       "<table border=\"1\" class=\"dataframe\">\n",
       "  <thead>\n",
       "    <tr style=\"text-align: right;\">\n",
       "      <th></th>\n",
       "      <th>F1 на валидационной выборке</th>\n",
       "    </tr>\n",
       "  </thead>\n",
       "  <tbody>\n",
       "    <tr>\n",
       "      <th>LogisticRegression с GridSearchCV и балансом весов</th>\n",
       "      <td>0.761333</td>\n",
       "    </tr>\n",
       "    <tr>\n",
       "      <th>CatBoostClassifier</th>\n",
       "      <td>0.707198</td>\n",
       "    </tr>\n",
       "    <tr>\n",
       "      <th>kNN</th>\n",
       "      <td>0.707198</td>\n",
       "    </tr>\n",
       "    <tr>\n",
       "      <th>LogisticRegression с ресемплированными данными</th>\n",
       "      <td>0.686896</td>\n",
       "    </tr>\n",
       "    <tr>\n",
       "      <th>DecisionTreeClassifier с ресемплированными данными</th>\n",
       "      <td>0.638785</td>\n",
       "    </tr>\n",
       "    <tr>\n",
       "      <th>DecisionTreeClassifier c балансом весов</th>\n",
       "      <td>0.525481</td>\n",
       "    </tr>\n",
       "  </tbody>\n",
       "</table>\n",
       "</div>"
      ],
      "text/plain": [
       "                                                    F1 на валидационной выборке\n",
       "LogisticRegression с GridSearchCV и балансом весов                     0.761333\n",
       "CatBoostClassifier                                                     0.707198\n",
       "kNN                                                                    0.707198\n",
       "LogisticRegression с ресемплированными данными                         0.686896\n",
       "DecisionTreeClassifier с ресемплированными данными                     0.638785\n",
       "DecisionTreeClassifier c балансом весов                                0.525481"
      ]
     },
     "execution_count": 46,
     "metadata": {},
     "output_type": "execute_result"
    }
   ],
   "source": [
    "index = ['LogisticRegression с ресемплированными данными',\n",
    "         'LogisticRegression с GridSearchCV и балансом весов',\n",
    "         'DecisionTreeClassifier с ресемплированными данными',\n",
    "         'DecisionTreeClassifier c балансом весов',\n",
    "         'CatBoostClassifier',\n",
    "         'kNN']\n",
    "\n",
    "data = {'F1 на валидационной выборке': [valid_f1_LR,\n",
    "                                        valid_f1_LR_1,\n",
    "                                        valid_f1_DTC,\n",
    "                                        valid_f1_DTC_1,\n",
    "                                        valid_f1_CBC,\n",
    "                                        valid_f1_knn]}\n",
    "\n",
    "f1_data = pd.DataFrame(data=data, index=index)\n",
    "\n",
    "f1_data.sort_values(by='F1 на валидационной выборке', ascending=False)"
   ]
  },
  {
   "attachments": {},
   "cell_type": "markdown",
   "metadata": {},
   "source": [
    "### Вывод:"
   ]
  },
  {
   "attachments": {},
   "cell_type": "markdown",
   "metadata": {},
   "source": [
    "* Лучшую F1 меру показала модель Логистической регрессией с GridSearchCV и балансом классов. К итоговому тестированию возьмем именно эту модель"
   ]
  },
  {
   "attachments": {},
   "cell_type": "markdown",
   "metadata": {},
   "source": [
    "## 3 Тестироввание"
   ]
  },
  {
   "cell_type": "code",
   "execution_count": 47,
   "metadata": {},
   "outputs": [
    {
     "name": "stdout",
     "output_type": "stream",
     "text": [
      "Метрики LogisticRegression\n",
      "F1: 0.7730368311327311\n",
      "Precision: 0.8851050286441757\n",
      "Recall: 0.6861584011843079\n",
      "Accuracy: 0.9589935464430103\n",
      "\n"
     ]
    }
   ],
   "source": [
    "LR_test = LogisticRegression(random_state=5678)\n",
    "LR_test.set_params(**LR_best_params)\n",
    "LR_test.fit(features_train, target_train)\n",
    "probabilities_test = LR_test.predict_proba(features_test)\n",
    "predict_test = LR_test.predict(features_test)\n",
    "\n",
    "print('Метрики LogisticRegression')\n",
    "print('F1:', f1_score(target_test, predict_test))\n",
    "print('Precision:', precision_score(target_test, predict_test))\n",
    "print('Recall:', recall_score(target_test, predict_test))\n",
    "print('Accuracy:', accuracy_score(target_test, predict_test))\n",
    "print()\n"
   ]
  },
  {
   "attachments": {},
   "cell_type": "markdown",
   "metadata": {},
   "source": [
    "## Вывод:"
   ]
  },
  {
   "attachments": {},
   "cell_type": "markdown",
   "metadata": {},
   "source": [
    "В проекте:\n",
    "\n",
    "* загрузил данные и провел их предобработку - удаление лишних данных, очистку текстов, лемматизацию;\n",
    "* обучил различные модели с разными гиперпараметрами и выборками;\n",
    "* выбрал лучшую модель по показателю F1.\n",
    "\n",
    "* Наилучший результат показала модель `LogisticRegression с балансом весов`. Ее F1 мера на тестовой выборке = 0.77. Она подходит условию >= 0.75. Рекомендую данную модель."
   ]
  }
 ],
 "metadata": {
  "ExecuteTimeLog": [
   {
    "duration": 3721,
    "start_time": "2023-04-06T03:58:18.766Z"
   },
   {
    "duration": 3540,
    "start_time": "2023-04-06T03:58:24.892Z"
   },
   {
    "duration": 20,
    "start_time": "2023-04-06T03:58:30.426Z"
   },
   {
    "duration": 37,
    "start_time": "2023-04-06T03:58:32.317Z"
   },
   {
    "duration": 290,
    "start_time": "2023-04-06T03:58:34.309Z"
   },
   {
    "duration": 29,
    "start_time": "2023-04-06T03:58:34.809Z"
   },
   {
    "duration": 12,
    "start_time": "2023-04-06T03:58:35.787Z"
   },
   {
    "duration": 94,
    "start_time": "2023-04-06T03:58:36.258Z"
   },
   {
    "duration": 14,
    "start_time": "2023-04-06T03:58:49.225Z"
   },
   {
    "duration": 4,
    "start_time": "2023-04-06T03:58:51.660Z"
   },
   {
    "duration": 5339,
    "start_time": "2023-04-06T03:58:51.999Z"
   },
   {
    "duration": 16,
    "start_time": "2023-04-06T03:58:57.341Z"
   },
   {
    "duration": 4,
    "start_time": "2023-04-06T04:03:05.410Z"
   },
   {
    "duration": 561,
    "start_time": "2023-04-06T04:03:24.464Z"
   },
   {
    "duration": 1311,
    "start_time": "2023-04-06T04:04:00.284Z"
   },
   {
    "duration": 4,
    "start_time": "2023-04-06T04:04:11.483Z"
   },
   {
    "duration": 448857,
    "start_time": "2023-04-06T04:04:15.458Z"
   },
   {
    "duration": 1183333,
    "start_time": "2023-04-06T04:14:24.715Z"
   },
   {
    "duration": 6,
    "start_time": "2023-04-06T04:35:36.071Z"
   },
   {
    "duration": 45,
    "start_time": "2023-04-06T04:35:39.436Z"
   },
   {
    "duration": 5,
    "start_time": "2023-04-06T04:35:41.722Z"
   },
   {
    "duration": 9,
    "start_time": "2023-04-06T04:35:49.232Z"
   },
   {
    "duration": 6487,
    "start_time": "2023-04-06T04:35:50.371Z"
   },
   {
    "duration": 20,
    "start_time": "2023-04-06T04:36:02.725Z"
   },
   {
    "duration": 6,
    "start_time": "2023-04-06T04:36:04.181Z"
   },
   {
    "duration": 7,
    "start_time": "2023-04-06T04:36:04.701Z"
   },
   {
    "duration": 73,
    "start_time": "2023-04-06T04:36:05.238Z"
   },
   {
    "duration": 560,
    "start_time": "2023-04-06T04:36:07.175Z"
   },
   {
    "duration": 3,
    "start_time": "2023-04-06T04:36:39.482Z"
   },
   {
    "duration": 17110,
    "start_time": "2023-04-06T04:36:40.436Z"
   },
   {
    "duration": 19,
    "start_time": "2023-04-06T04:37:01.477Z"
   },
   {
    "duration": 309528,
    "start_time": "2023-04-06T04:37:16.234Z"
   },
   {
    "duration": 47804,
    "start_time": "2023-04-06T04:42:34.960Z"
   },
   {
    "duration": 792500,
    "start_time": "2023-04-06T04:44:50.565Z"
   },
   {
    "duration": 41017,
    "start_time": "2023-04-06T04:58:11.766Z"
   },
   {
    "duration": 120928,
    "start_time": "2023-04-06T04:58:57.614Z"
   },
   {
    "duration": 5752,
    "start_time": "2023-04-06T05:01:04.449Z"
   },
   {
    "duration": 250037,
    "start_time": "2023-04-06T05:01:12.763Z"
   },
   {
    "duration": 19,
    "start_time": "2023-04-06T05:05:25.366Z"
   },
   {
    "duration": 95,
    "start_time": "2023-04-06T05:05:28.479Z"
   },
   {
    "duration": 99,
    "start_time": "2023-04-06T05:05:46.294Z"
   },
   {
    "duration": 148748,
    "start_time": "2023-04-06T05:08:11.370Z"
   },
   {
    "duration": 4,
    "start_time": "2023-04-06T05:11:01.400Z"
   },
   {
    "duration": 14,
    "start_time": "2023-04-06T05:11:03.441Z"
   },
   {
    "duration": 24077,
    "start_time": "2023-04-06T05:11:12.377Z"
   },
   {
    "duration": 9,
    "start_time": "2023-04-06T05:11:40.481Z"
   },
   {
    "duration": 48863,
    "start_time": "2023-04-06T05:11:49.717Z"
   }
  ],
  "kernelspec": {
   "display_name": "Python 3 (ipykernel)",
   "language": "python",
   "name": "python3"
  },
  "language_info": {
   "codemirror_mode": {
    "name": "ipython",
    "version": 3
   },
   "file_extension": ".py",
   "mimetype": "text/x-python",
   "name": "python",
   "nbconvert_exporter": "python",
   "pygments_lexer": "ipython3",
   "version": "3.9.5"
  },
  "toc": {
   "base_numbering": 1,
   "nav_menu": {},
   "number_sections": true,
   "sideBar": true,
   "skip_h1_title": true,
   "title_cell": "Table of Contents",
   "title_sidebar": "Contents",
   "toc_cell": false,
   "toc_position": {},
   "toc_section_display": true,
   "toc_window_display": false
  },
  "vscode": {
   "interpreter": {
    "hash": "a3c9e42bf21b947ba2792872b04abca749c040e4bc0f392cd0ee484547e0e724"
   }
  }
 },
 "nbformat": 4,
 "nbformat_minor": 2
}
